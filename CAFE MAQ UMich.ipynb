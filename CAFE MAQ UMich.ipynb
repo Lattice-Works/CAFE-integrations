{
 "cells": [
  {
   "cell_type": "code",
   "execution_count": null,
   "metadata": {},
   "outputs": [],
   "source": [
    "import pandas as pd\n",
    "import numpy as np\n",
    "import os\n",
    "import graphviz\n",
    "from collections import Counter\n",
    "import matplotlib.pyplot as plt\n",
    "import yaml\n",
    "\n",
    "from flighttools import visualise, flighter, flight, visuals\n",
    "import openlattice"
   ]
  },
  {
   "cell_type": "code",
   "execution_count": null,
   "metadata": {},
   "outputs": [],
   "source": [
    "#need to edit these paths to yours\n",
    "basedir='/Users/shdutta/dev_projects/latticeworks/Integrations/CAFE-integrations/'\n",
    "yamlpath = \"/Users/shdutta/dev_projects/latticeworks/Integrations/CAFE-integrations/\"\n",
    "graphpath = \"/Users/shdutta/dev_projects/work_in_progress/graphs/\""
   ]
  },
  {
   "cell_type": "code",
   "execution_count": null,
   "metadata": {},
   "outputs": [],
   "source": [
    "baseurl = 'http://localhost:8080'\n",
    "jwt = \"**\"\n",
    "\n",
    "configuration = openlattice.Configuration()\n",
    "configuration.host = baseurl\n",
    "configuration.api_key_prefix['Authorization'] = 'Bearer'\n",
    "configuration.api_key['Authorization'] = jwt\n",
    "\n",
    "edmAPI = openlattice.EdmApi(openlattice.ApiClient(configuration))\n"
   ]
  },
  {
   "cell_type": "code",
   "execution_count": null,
   "metadata": {},
   "outputs": [],
   "source": [
    "filename= os.path.join(basedir,'cafe_maq_respondents_UM.yaml')\n",
    "fl = flight.flight()\n",
    "fl.deserialise(filename)\n",
    "fl.add_and_check_edm()"
   ]
  },
  {
   "cell_type": "code",
   "execution_count": null,
   "metadata": {},
   "outputs": [],
   "source": [
    "visualisation = visuals.edmViz(fl)\n",
    "fullplot = visualisation.create_flight_plot(type=\"fqn\")\n",
    "fullplot.format = 'png'\n",
    "# fullplot.render(os.path.join(imdir, \"Offenders_small\"))\n",
    "fullplot"
   ]
  },
  {
   "cell_type": "code",
   "execution_count": null,
   "metadata": {},
   "outputs": [],
   "source": [
    "filename= os.path.join(basedir,'cafe_maq_childcarelanguage_UM.yaml')\n",
    "fl = flight.flight()\n",
    "fl.deserialise(filename)\n",
    "fl.add_and_check_edm()"
   ]
  },
  {
   "cell_type": "code",
   "execution_count": null,
   "metadata": {},
   "outputs": [],
   "source": [
    "visualisation = visuals.edmViz(fl)\n",
    "fullplot = visualisation.create_flight_plot(type=\"fqn\")\n",
    "fullplot.format = 'png'\n",
    "# fullplot.render(os.path.join(imdir, \"Offenders_small\"))\n",
    "fullplot"
   ]
  },
  {
   "cell_type": "code",
   "execution_count": null,
   "metadata": {},
   "outputs": [],
   "source": [
    "filename= os.path.join(basedir,'cafe_maq_parentsmediause_UM.yaml')\n",
    "fl = flight.flight()\n",
    "fl.deserialise(filename)\n",
    "fl.add_and_check_edm()"
   ]
  },
  {
   "cell_type": "code",
   "execution_count": null,
   "metadata": {},
   "outputs": [],
   "source": [
    "visualisation = visuals.edmViz(fl)\n",
    "fullplot = visualisation.create_flight_plot(type=\"fqn\")\n",
    "fullplot.format = 'png'\n",
    "# fullplot.render(os.path.join(imdir, \"Offenders_small\"))\n",
    "fullplot"
   ]
  },
  {
   "cell_type": "code",
   "execution_count": null,
   "metadata": {},
   "outputs": [],
   "source": [
    "filename= os.path.join(basedir,'cafe_maq_mediadevices_UM.yaml')\n",
    "fl = flight.flight()\n",
    "fl.deserialise(filename)\n",
    "fl.add_and_check_edm()"
   ]
  },
  {
   "cell_type": "code",
   "execution_count": null,
   "metadata": {},
   "outputs": [],
   "source": [
    "visualisation = visuals.edmViz(fl)\n",
    "fullplot = visualisation.create_flight_plot(type=\"fqn\")\n",
    "fullplot.format = 'png'\n",
    "# fullplot.render(os.path.join(imdir, \"Offenders_small\"))\n",
    "fullplot"
   ]
  },
  {
   "cell_type": "code",
   "execution_count": null,
   "metadata": {},
   "outputs": [],
   "source": [
    "filename= os.path.join(basedir,'cafe_maq_mediacontent_UM.yaml')\n",
    "fl = flight.flight()\n",
    "fl.deserialise(filename)\n",
    "fl.add_and_check_edm()"
   ]
  },
  {
   "cell_type": "code",
   "execution_count": null,
   "metadata": {},
   "outputs": [],
   "source": [
    "visualisation = visuals.edmViz(fl)\n",
    "fullplot = visualisation.create_flight_plot(type=\"fqn\")\n",
    "fullplot.format = 'png'\n",
    "# fullplot.render(os.path.join(imdir, \"Offenders_small\"))\n",
    "fullplot"
   ]
  },
  {
   "cell_type": "code",
   "execution_count": null,
   "metadata": {},
   "outputs": [],
   "source": [
    "filename= os.path.join(basedir,'cafe_maq_mobilecontent_UM.yaml')\n",
    "fl = flight.flight()\n",
    "fl.deserialise(filename)\n",
    "fl.add_and_check_edm()"
   ]
  },
  {
   "cell_type": "code",
   "execution_count": null,
   "metadata": {},
   "outputs": [],
   "source": [
    "visualisation = visuals.edmViz(fl)\n",
    "fullplot = visualisation.create_flight_plot(type=\"fqn\")\n",
    "fullplot.format = 'png'\n",
    "# fullplot.render(os.path.join(imdir, \"Offenders_small\"))\n",
    "fullplot"
   ]
  },
  {
   "cell_type": "code",
   "execution_count": null,
   "metadata": {},
   "outputs": [],
   "source": [
    "filename= os.path.join(basedir,'cafe_maq_timeuse_UM.yaml')\n",
    "fl = flight.flight()\n",
    "fl.deserialise(filename)\n",
    "fl.add_and_check_edm()"
   ]
  },
  {
   "cell_type": "code",
   "execution_count": null,
   "metadata": {},
   "outputs": [],
   "source": [
    "visualisation = visuals.edmViz(fl)\n",
    "fullplot = visualisation.create_flight_plot(type=\"fqn\")\n",
    "fullplot.format = 'png'\n",
    "# fullplot.render(os.path.join(imdir, \"Offenders_small\"))\n",
    "fullplot"
   ]
  },
  {
   "cell_type": "code",
   "execution_count": null,
   "metadata": {},
   "outputs": [],
   "source": [
    "filename= os.path.join(basedir,'cafe_maq_parentattitudes_UM.yaml')\n",
    "fl = flight.flight()\n",
    "fl.deserialise(filename)\n",
    "fl.add_and_check_edm()"
   ]
  },
  {
   "cell_type": "code",
   "execution_count": null,
   "metadata": {},
   "outputs": [],
   "source": [
    "visualisation = visuals.edmViz(fl)\n",
    "fullplot = visualisation.create_flight_plot(type=\"fqn\")\n",
    "fullplot.format = 'png'\n",
    "# fullplot.render(os.path.join(imdir, \"Offenders_small\"))\n",
    "fullplot"
   ]
  },
  {
   "cell_type": "code",
   "execution_count": null,
   "metadata": {},
   "outputs": [],
   "source": [
    "dot = visualise.generate_graph(os.path.join(yamlpath,'cafe_maq_respondents_UM.yaml'),verbatim=4)\n",
    "dot.render(os.path.join(graphpath,'cafe_maq_respondents_UM'))\n",
    "dot"
   ]
  },
  {
   "cell_type": "code",
   "execution_count": null,
   "metadata": {},
   "outputs": [],
   "source": [
    "dot = visualise.generate_graph(os.path.join(yamlpath,'cafe_maq_childcarelanguage_UM.yaml'),verbatim=4)\n",
    "dot.render(os.path.join(graphpath,'cafe_maq_childcarelanguage_UM'))\n",
    "dot"
   ]
  },
  {
   "cell_type": "code",
   "execution_count": null,
   "metadata": {},
   "outputs": [],
   "source": [
    "dot = visualise.generate_graph(os.path.join(yamlpath,'cafe_maq_parentsmediause_UM.yaml'),verbatim=4)\n",
    "dot.render(os.path.join(graphpath,'cafe_maq_parentsmediause_UM'))\n",
    "dot"
   ]
  },
  {
   "cell_type": "code",
   "execution_count": null,
   "metadata": {},
   "outputs": [],
   "source": [
    "dot = visualise.generate_graph(os.path.join(yamlpath,'cafe_maq_mediadevices_UM.yaml'),verbatim=4)\n",
    "dot.render(os.path.join(graphpath,'cafe_maq_mediadevices_UM'))\n",
    "dot"
   ]
  },
  {
   "cell_type": "code",
   "execution_count": null,
   "metadata": {},
   "outputs": [],
   "source": [
    "dot = visualise.generate_graph(os.path.join(yamlpath,'cafe_maq_mediacontent_UM.yaml'),verbatim=4)\n",
    "dot.render(os.path.join(graphpath,'cafe_maq_mediacontent_UM'))\n",
    "dot"
   ]
  },
  {
   "cell_type": "code",
   "execution_count": null,
   "metadata": {},
   "outputs": [],
   "source": [
    "dot = visualise.generate_graph(os.path.join(yamlpath,'cafe_maq_mobilecontent_UM.yaml'),verbatim=4)\n",
    "dot.render(os.path.join(graphpath,'cafe_maq_mobilecontent_UM'))\n",
    "dot"
   ]
  },
  {
   "cell_type": "code",
   "execution_count": null,
   "metadata": {},
   "outputs": [],
   "source": [
    "dot = visualise.generate_graph(os.path.join(yamlpath,'cafe_maq_timeuse_UM.yaml'),verbatim=4)\n",
    "dot.render(os.path.join(graphpath,'cafe_maq_timeuse_UM'))\n",
    "dot"
   ]
  },
  {
   "cell_type": "code",
   "execution_count": null,
   "metadata": {},
   "outputs": [],
   "source": [
    "dot = visualise.generate_graph(os.path.join(yamlpath,'cafe_maq_parentattitudes_UM.yaml'),verbatim=4)\n",
    "dot.render(os.path.join(graphpath,'cafe_maq_parentattitudes_UM'))\n",
    "dot"
   ]
  }
 ],
 "metadata": {
  "kernelspec": {
   "display_name": "Python 3",
   "language": "python",
   "name": "python3"
  },
  "language_info": {
   "codemirror_mode": {
    "name": "ipython",
    "version": 3
   },
   "file_extension": ".py",
   "mimetype": "text/x-python",
   "name": "python",
   "nbconvert_exporter": "python",
   "pygments_lexer": "ipython3",
   "version": "3.7.2"
  }
 },
 "nbformat": 4,
 "nbformat_minor": 2
}
